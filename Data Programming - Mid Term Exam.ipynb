{
 "cells": [
  {
   "cell_type": "markdown",
   "id": "e9e440fe",
   "metadata": {},
   "source": [
    "# DATA PROGRAMMING "
   ]
  },
  {
   "cell_type": "markdown",
   "id": "78cb3b4e",
   "metadata": {},
   "source": [
    "## MID TERM"
   ]
  },
  {
   "cell_type": "markdown",
   "id": "b4879dcb",
   "metadata": {},
   "source": [
    "### Question 21"
   ]
  },
  {
   "cell_type": "markdown",
   "id": "cc28de7c",
   "metadata": {},
   "source": [
    "In a jupyter notebook solve the following question. Please upload the notebook to GitHub and provide the link submission box below.\n",
    "\n",
    " \n",
    "\n",
    "__int()__: Constructor that takes as input a pair of Point objects that represent the ends points of the line segment\n",
    "\n",
    "Length():: returns the length if the segment \n",
    "\n",
    "Slope() returns the slope of the segment of none if the slope is unbounded \n",
    "\n",
    " \n",
    "\n",
    "> p1 = Point(3,4)\n",
    "\n",
    "> p2 = Point()\n",
    "\n",
    "> s = Segment(p1,p2)\n",
    "\n",
    "> s.length()\n",
    "\n",
    "5.0\n",
    "\n",
    "> s.slope()\n",
    "\n",
    "0.75"
   ]
  },
  {
   "cell_type": "markdown",
   "id": "2c9de08b",
   "metadata": {},
   "source": [
    "### Answer:"
   ]
  },
  {
   "cell_type": "code",
   "execution_count": 77,
   "id": "1fd18949",
   "metadata": {},
   "outputs": [
    {
     "name": "stdout",
     "output_type": "stream",
     "text": [
      "The length of the segment is: 5.0\n",
      "The slope of the segment is: 0.75\n"
     ]
    }
   ],
   "source": [
    "import math\n",
    "\n",
    "# Defining the class \"Point\" which depicts x and y coordinates.\n",
    "class Point:\n",
    "    def __init__(self, y=0, x=0):\n",
    "        self.y_coordinate = y\n",
    "        self.x_coordinate = x\n",
    "\n",
    " # Defining the class \"Segment\" which depicts the line segment between two points.\n",
    "class Segment:\n",
    "    def __init__(self, point1, point2):\n",
    "        self.point1 = point1\n",
    "        self.point2 = point2\n",
    "        \n",
    "# Defining function and finding the length of the line segment and returning the result using the  Euclidean's distance\n",
    "    def calculate_length(self):\n",
    "        length = math.sqrt((self.point2.y_coordinate - self.point1.y_coordinate) ** 2 + (self.point2.x_coordinate - self.point1.x_coordinate) ** 2)\n",
    "        print(\"The length of the segment is:\", length)\n",
    "\n",
    "# Defining function \"Slope\" and calculating the slope of the segment.       \n",
    "    def calculate_slope(self):\n",
    "        # Calculate the slope between point1 and point2\n",
    "        slope = (self.point2.y_coordinate - self.point1.y_coordinate) / (self.point2.x_coordinate - self.point1.x_coordinate)\n",
    "        print(\"The slope of the segment is:\", slope)\n",
    "\n",
    "# Creating  Point  \"p1\" and \"p2\" with x and y coordinates and printing the length and slope.\n",
    "if __name__ == \"__main__\":\n",
    "    point1 = Point(3, 4)\n",
    "    point2 = Point(0, 0)\n",
    "    segment = Segment(point1, point2)\n",
    "    segment.calculate_length()\n",
    "    segment.calculate_slope()\n"
   ]
  },
  {
   "cell_type": "markdown",
   "id": "f3bf4741",
   "metadata": {},
   "source": [
    "# Question 22"
   ]
  },
  {
   "cell_type": "markdown",
   "id": "68e6b663",
   "metadata": {},
   "source": [
    "In a jupyter notebook solve the following question using both python and SQL. Please upload the notebook to GitHub and provide the link submission box below.\n",
    "\n",
    "\n",
    "\n",
    "| Column Name   | Type    |\n",
    "|---------------|---------|\n",
    "| id            | int     |\n",
    "| recordDate    | date    |\n",
    "| temperature   | int     |\n",
    "\n",
    "id is the column with unique values for this table.\n",
    "This table contains information about the temperature on a certain day.\n",
    "\n",
    "Write a solution to find all dates' Id with higher temperatures compared to its previous dates (yesterday).\n",
    "\n",
    "Return the result table in any order.\n",
    "\n",
    "Please use the following input Weather table for your solution. To receive full marks you will need to create the database, create the table, insert the data below and execute the SQL query.\n",
    "\n",
    " \n",
    "\n",
    "Input: \n",
    "Weather table:\n",
    "| id | recordDate | temperature |\n",
    "|----|------------|-------------|\n",
    "| 1  | 2015-01-01 | 10          |\n",
    "| 2  | 2015-01-02 | 25          |\n",
    "| 3  | 2015-01-03 | 20          |\n",
    "| 4  | 2015-01-04 | 30          |\n",
    "\n",
    "Output: \n",
    "| id |\n",
    "|----|\n",
    "| 2  |\n",
    "| 4  |\n",
    "\n",
    "Explanation: <BR>\n",
    "In 2015-01-02, the temperature was higher than the previous day (10 -> 25).<BR>\n",
    "In 2015-01-04, the temperature was higher than the previous day (20 -> 30).\n",
    " "
   ]
  },
  {
   "cell_type": "markdown",
   "id": "dde69b93",
   "metadata": {},
   "source": [
    "### Answer:"
   ]
  },
  {
   "cell_type": "markdown",
   "id": "7baffb52",
   "metadata": {},
   "source": [
    "### PYTHON  :"
   ]
  },
  {
   "cell_type": "code",
   "execution_count": 78,
   "id": "38a4ea8c",
   "metadata": {},
   "outputs": [
    {
     "name": "stdout",
     "output_type": "stream",
     "text": [
      "Input Data:\n",
      "+------+--------------+---------------+-------------+\n",
      "|   id | recordDate   |   temperature |   prev_temp |\n",
      "+======+==============+===============+=============+\n",
      "|    5 | 2015-01-01   |            10 |         nan |\n",
      "+------+--------------+---------------+-------------+\n",
      "|    6 | 2015-01-02   |            25 |          10 |\n",
      "+------+--------------+---------------+-------------+\n",
      "|    7 | 2015-01-03   |            20 |          25 |\n",
      "+------+--------------+---------------+-------------+\n",
      "|    8 | 2015-01-04   |            30 |          20 |\n",
      "+------+--------------+---------------+-------------+\n",
      "\n",
      "Output Data:\n",
      "+------+\n",
      "|   id |\n",
      "+======+\n",
      "|    6 |\n",
      "+------+\n",
      "|    8 |\n",
      "+------+\n",
      "\n",
      "Explanation:\n",
      "In 2015-01-02, the temperature was higher than the previous day (10.0 -> 25).\n",
      "In 2015-01-04, the temperature was higher than the previous day (20.0 -> 30).\n"
     ]
    }
   ],
   "source": [
    "import pandas as pd\n",
    "from tabulate import tabulate\n",
    "\n",
    "# Creating a DataFrame\n",
    "data = {\n",
    "    'id': [5, 6, 7, 8],\n",
    "    'recordDate': ['2015-01-01', '2015-01-02', '2015-01-03', '2015-01-04'],\n",
    "    'temperature': [10, 25, 20, 30]\n",
    "}\n",
    "\n",
    "df = pd.DataFrame(data)\n",
    "\n",
    "# Finding rows where the temperature is higher than the previous day\n",
    "df['prev_temp'] = df['temperature'].shift(1)\n",
    "result = df[df['temperature'] > df['prev_temp']]\n",
    "\n",
    "# Printing the input data\n",
    "print(\"Input Data:\")\n",
    "print(tabulate(df, headers='keys', tablefmt='grid', showindex=False))\n",
    "\n",
    "# Printing the output data and explanation\n",
    "if not result.empty:\n",
    "    headers_output = [\"id\"]\n",
    "    table_data = result[[\"id\"]].values.tolist()\n",
    "    print(\"\\nOutput Data:\")\n",
    "    print(tabulate(table_data, headers_output, tablefmt='grid', showindex=False))\n",
    "    print(\"\\nExplanation:\")\n",
    "    for idx, row in result.iterrows():\n",
    "        print(f\"In {row['recordDate']}, the temperature was higher than the previous day ({row['prev_temp']} -> {row['temperature']}).\")\n",
    "else:\n",
    "    print(\"\\nNo dates found with higher temperatures compared to the previous day.\")\n"
   ]
  },
  {
   "cell_type": "markdown",
   "id": "1e1eefc8",
   "metadata": {},
   "source": [
    "### SQL :"
   ]
  },
  {
   "cell_type": "code",
   "execution_count": 79,
   "id": "66e28e68",
   "metadata": {},
   "outputs": [
    {
     "name": "stdout",
     "output_type": "stream",
     "text": [
      "Input Data:\n",
      "╒══════╤══════════════╤═══════════════╕\n",
      "│   id │ recordDate   │   temperature │\n",
      "╞══════╪══════════════╪═══════════════╡\n",
      "│    5 │ 2015-01-01   │            10 │\n",
      "├──────┼──────────────┼───────────────┤\n",
      "│    6 │ 2015-01-02   │            25 │\n",
      "├──────┼──────────────┼───────────────┤\n",
      "│    7 │ 2015-01-03   │            20 │\n",
      "├──────┼──────────────┼───────────────┤\n",
      "│    8 │ 2015-01-04   │            30 │\n",
      "╘══════╧══════════════╧═══════════════╛\n",
      "\n",
      "\n",
      "Output Data:\n",
      "╒══════╕\n",
      "│   id │\n",
      "╞══════╡\n",
      "│    2 │\n",
      "├──────┤\n",
      "│    4 │\n",
      "╘══════╛\n",
      "\n",
      " Explanation:\n",
      "1. In 2015-01-02, the temperature was higher than the previous day (10 -> 25).\n",
      "2. In 2015-01-04, the temperature was higher than the previous day (20 -> 30).\n"
     ]
    }
   ],
   "source": [
    "# Importing the built-in module called \"sqlite3\" to deal with database.\n",
    "import sqlite3\n",
    "\n",
    "# Using \"tabulate\" to create table.\n",
    "from tabulate import tabulate\n",
    "\n",
    "# Creating a connection to the database.\n",
    "connection = sqlite3.connect('weather_data.db')\n",
    "cursor = connection.cursor()\n",
    "\n",
    "# Creating the Weather table if it does not exist.\n",
    "cursor.execute('''\n",
    "    CREATE TABLE IF NOT EXISTS Weather (\n",
    "        id INTEGER PRIMARY KEY,\n",
    "        recordDate DATE,\n",
    "        temperature INTEGER\n",
    "    )\n",
    "''')\n",
    "\n",
    "# Inserting the data in the Weather table.\n",
    "data = [\n",
    "    (5, '2015-01-01', 10),\n",
    "    (6, '2015-01-02', 25),\n",
    "    (7, '2015-01-03', 20),\n",
    "    (8, '2015-01-04', 30)\n",
    "]\n",
    "cursor.executemany('INSERT OR IGNORE INTO Weather VALUES (?, ?, ?)', data)\n",
    "\n",
    "try:\n",
    "    \n",
    "# Executing the SQL query.\n",
    "    cursor.execute('''\n",
    "        SELECT current_id AS id\n",
    "        FROM (\n",
    "            SELECT \n",
    "                id AS current_id,\n",
    "                recordDate AS current_date,\n",
    "                temperature AS current_temp,\n",
    "                LAG(temperature) OVER (ORDER BY recordDate) AS prev_temp\n",
    "            FROM Weather\n",
    "        ) PreviousDay\n",
    "        WHERE current_temp > prev_temp\n",
    "    ''')\n",
    "\n",
    "# Retriving the results.\n",
    "    rows = cursor.fetchall()\n",
    "\n",
    "# Presenting  the input data in a box structure.\n",
    "    headers_input = [\"id\", \"recordDate\", \"temperature\"]\n",
    "    print(\"Input Data:\")\n",
    "    print(tabulate(data, headers=headers_input, tablefmt=\"fancy_grid\"))\n",
    "    print(\"\\n\")\n",
    "\n",
    "# Prsenting the results in a box structure.\n",
    "    if len(rows) > 0:\n",
    "        headers_output = [\"id\"]\n",
    "        table_data = [[row[0]] for row in rows]\n",
    "        print(\"Output Data:\")\n",
    "        print(tabulate(table_data, headers_output, tablefmt=\"fancy_grid\"))\n",
    "        print(\"\\n Explanation:\")\n",
    "        print(f\"1. In {data[1][1]}, the temperature was higher than the previous day ({data[0][2]} -> {data[1][2]}).\")\n",
    "        print(f\"2. In {data[3][1]}, the temperature was higher than the previous day ({data[2][2]} -> {data[3][2]}).\")\n",
    "    else:\n",
    "        print(\"No dates found with higher temperatures compared to the previous day.\")\n",
    "\n",
    "except sqlite3.Error as error:\n",
    "    print(f\"An error occurred: {error}\")\n",
    "\n",
    "finally:\n",
    "    \n",
    "# Closing the connection to the database.\n",
    "    connection.close()\n"
   ]
  },
  {
   "cell_type": "markdown",
   "id": "1e34ad3e",
   "metadata": {},
   "source": [
    "# Question 23"
   ]
  },
  {
   "cell_type": "markdown",
   "id": "39b85eb2",
   "metadata": {},
   "source": [
    "\n",
    "In a jupyter notebook solve the following question using python. Please upload the notebook to GitHub and provide the link submission box below.\n",
    "\n",
    "\n",
    "\n",
    "Develop a recursive function tough() that takes two nonnegative integer arguments and outputs a pattern as shown below. Hint: The first argument represents the indentation of the pattern, where the second argument -- always a pattern of 2 indicates the number *s in the longest line of *s in the pattern"
   ]
  },
  {
   "cell_type": "markdown",
   "id": "6f739f0e",
   "metadata": {},
   "source": [
    "### Answer:"
   ]
  },
  {
   "cell_type": "code",
   "execution_count": 80,
   "id": "c2142597",
   "metadata": {},
   "outputs": [
    {
     "name": "stdout",
     "output_type": "stream",
     "text": [
      "f(0, 0)\n",
      "\n",
      "f(0, 1)\n",
      "*\n",
      "*\n",
      "\n",
      "f(0, 2)\n",
      "*\n",
      "*\n",
      "*\n",
      "**\n",
      "\n",
      "f(0, 4)\n",
      "*\n",
      "*\n",
      "*\n",
      "*\n",
      "*\n",
      "**\n",
      "***\n",
      "****\n"
     ]
    }
   ],
   "source": [
    "def tough(indent, pattern):\n",
    "    if pattern == 0:\n",
    "        return\n",
    "    print(' ' * indent + '*')\n",
    "    tough(indent, pattern - 1)\n",
    "    print(' ' * indent + '*' * pattern)\n",
    "\n",
    "# Printing the function with example values\n",
    "print(\"f(0, 0)\")\n",
    "tough(0, 0)\n",
    "\n",
    "print(\"\\nf(0, 1)\")\n",
    "tough(0, 1)\n",
    "\n",
    "print(\"\\nf(0, 2)\")\n",
    "tough(0, 2)\n",
    "\n",
    "print(\"\\nf(0, 4)\")\n",
    "tough(0, 4)\n"
   ]
  },
  {
   "cell_type": "code",
   "execution_count": null,
   "id": "d9ade696",
   "metadata": {},
   "outputs": [],
   "source": []
  }
 ],
 "metadata": {
  "kernelspec": {
   "display_name": "Python 3 (ipykernel)",
   "language": "python",
   "name": "python3"
  },
  "language_info": {
   "codemirror_mode": {
    "name": "ipython",
    "version": 3
   },
   "file_extension": ".py",
   "mimetype": "text/x-python",
   "name": "python",
   "nbconvert_exporter": "python",
   "pygments_lexer": "ipython3",
   "version": "3.11.4"
  }
 },
 "nbformat": 4,
 "nbformat_minor": 5
}
