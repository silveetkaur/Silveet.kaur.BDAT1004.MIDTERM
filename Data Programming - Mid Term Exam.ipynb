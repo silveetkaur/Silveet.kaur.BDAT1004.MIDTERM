{
 "cells": [
  {
   "cell_type": "markdown",
   "id": "e986d082",
   "metadata": {},
   "source": [
    "# DATA PROGRAMMING "
   ]
  },
  {
   "cell_type": "markdown",
   "id": "b6df4e90",
   "metadata": {},
   "source": [
    "## MID TERM"
   ]
  },
  {
   "cell_type": "markdown",
   "id": "73291dbf",
   "metadata": {},
   "source": [
    "### Question 21"
   ]
  },
  {
   "cell_type": "markdown",
   "id": "700805e5",
   "metadata": {},
   "source": [
    "In a jupyter notebook solve the following question. Please upload the notebook to GitHub and provide the link submission box below.\n",
    "\n",
    " \n",
    "\n",
    "__int()__: Constructor that takes as input a pair of Point objects that represent the ends points of the line segment\n",
    "\n",
    "Length():: returns the length if the segment \n",
    "\n",
    "Slope() returns the slope of the segment of none if the slope is unbounded \n",
    "\n",
    " \n",
    "\n",
    "> p1 = Point(3,4)\n",
    "\n",
    "> p2 = Point()\n",
    "\n",
    "> s = Segment(p1,p2)\n",
    "\n",
    "> s.length()\n",
    "\n",
    "5.0\n",
    "\n",
    "> s.slope()\n",
    "\n",
    "0.75"
   ]
  },
  {
   "cell_type": "markdown",
   "id": "e5e1e0de",
   "metadata": {},
   "source": [
    "### Answer:"
   ]
  },
  {
   "cell_type": "code",
   "execution_count": 77,
   "id": "f26ab64c",
   "metadata": {},
   "outputs": [
    {
     "name": "stdout",
     "output_type": "stream",
     "text": [
      "The length of the segment is: 5.0\n",
      "The slope of the segment is: 0.75\n"
     ]
    }
   ],
   "source": [
    "import math\n",
    "\n",
    "# Defining the class \"Point\" which depicts x and y coordinates.\n",
    "class Point:\n",
    "    def __init__(self, y=0, x=0):\n",
    "        self.y_coordinate = y\n",
    "        self.x_coordinate = x\n",
    "\n",
    " # Defining the class \"Segment\" which depicts the line segment between two points.\n",
    "class Segment:\n",
    "    def __init__(self, point1, point2):\n",
    "        self.point1 = point1\n",
    "        self.point2 = point2\n",
    "        \n",
    "# Defining function and finding the length of the line segment and returning the result using the  Euclidean's distance\n",
    "    def calculate_length(self):\n",
    "        length = math.sqrt((self.point2.y_coordinate - self.point1.y_coordinate) ** 2 + (self.point2.x_coordinate - self.point1.x_coordinate) ** 2)\n",
    "        print(\"The length of the segment is:\", length)\n",
    "\n",
    "# Defining function \"Slope\" and calculating the slope of the segment.       \n",
    "    def calculate_slope(self):\n",
    "        # Calculate the slope between point1 and point2\n",
    "        slope = (self.point2.y_coordinate - self.point1.y_coordinate) / (self.point2.x_coordinate - self.point1.x_coordinate)\n",
    "        print(\"The slope of the segment is:\", slope)\n",
    "\n",
    "# Creating  Point  \"p1\" and \"p2\" with x and y coordinates and printing the length and slope.\n",
    "if __name__ == \"__main__\":\n",
    "    point1 = Point(3, 4)\n",
    "    point2 = Point(0, 0)\n",
    "    segment = Segment(point1, point2)\n",
    "    segment.calculate_length()\n",
    "    segment.calculate_slope()\n"
   ]
  },
  {
   "cell_type": "markdown",
   "id": "bdbe4c0e",
   "metadata": {},
   "source": [
    "# Question 22"
   ]
  },
  {
   "cell_type": "markdown",
   "id": "65c69325",
   "metadata": {},
   "source": [
    "In a jupyter notebook solve the following question using both python and SQL. Please upload the notebook to GitHub and provide the link submission box below.\n",
    "\n",
    "\n",
    "\n",
    "| Column Name   | Type    |\n",
    "|---------------|---------|\n",
    "| id            | int     |\n",
    "| recordDate    | date    |\n",
    "| temperature   | int     |\n",
    "\n",
    "id is the column with unique values for this table.\n",
    "This table contains information about the temperature on a certain day.\n",
    " "
   ]
  },
  {
   "cell_type": "markdown",
   "id": "d0b181d3",
   "metadata": {},
   "source": [
    "### Answer:"
   ]
  },
  {
   "cell_type": "markdown",
   "id": "5170a460",
   "metadata": {},
   "source": [
    "### PYTHON  :"
   ]
  },
  {
   "cell_type": "code",
   "execution_count": 72,
   "id": "58a99867",
   "metadata": {},
   "outputs": [
    {
     "name": "stdout",
     "output_type": "stream",
     "text": [
      "╒══════╤══════════════╤═══════════════╕\n",
      "│   id │ recordDate   │   temperature │\n",
      "╞══════╪══════════════╪═══════════════╡\n",
      "│    1 │ 2023-10-01   │            25 │\n",
      "├──────┼──────────────┼───────────────┤\n",
      "│    2 │ 2023-10-02   │            28 │\n",
      "├──────┼──────────────┼───────────────┤\n",
      "│    3 │ 2023-10-03   │            30 │\n",
      "├──────┼──────────────┼───────────────┤\n",
      "│    4 │ 2023-10-04   │            26 │\n",
      "├──────┼──────────────┼───────────────┤\n",
      "│    5 │ 2023-10-05   │            29 │\n",
      "╘══════╧══════════════╧═══════════════╛\n"
     ]
    }
   ],
   "source": [
    "# Importing the built-in module called pandas.\n",
    "import pandas as pd\n",
    "\n",
    "from tabulate import tabulate\n",
    "# Using \"tabulate\" to create table.\n",
    "\n",
    "# Taking a random sample data for the table.\n",
    "data = {\n",
    "    'id': [1, 2, 3, 4, 5],\n",
    "    'recordDate': ['2023-10-01', '2023-10-02', '2023-10-03', '2023-10-04', '2023-10-05'],\n",
    "    'temperature': [25, 28, 30, 26, 29]\n",
    "}\n",
    "\n",
    "# Creating a DataFrame for the data.\n",
    "df = pd.DataFrame(data)\n",
    "\n",
    "# Customizing thepresentation of the DataFrame in a box structure.\n",
    "customized_output = tabulate(df, headers='keys', tablefmt='fancy_grid', showindex=False)\n",
    "\n",
    "# Printing the customized DataFrame.\n",
    "print(customized_output)\n"
   ]
  },
  {
   "cell_type": "markdown",
   "id": "2201693c",
   "metadata": {},
   "source": [
    "### SQL :"
   ]
  },
  {
   "cell_type": "code",
   "execution_count": 73,
   "id": "07c02230",
   "metadata": {},
   "outputs": [
    {
     "name": "stdout",
     "output_type": "stream",
     "text": [
      "+------------+--------------+------------+\n",
      "| ID         | Record Date  | Temperature |\n",
      "+------------+--------------+------------+\n",
      "| 1          | 2023-10-01   | 25          |\n",
      "| 2          | 2023-10-02   | 28          |\n",
      "| 3          | 2023-10-03   | 30          |\n",
      "| 4          | 2023-10-04   | 26          |\n",
      "| 5          | 2023-10-05   | 29          |\n",
      "+------------+--------------+------------+\n"
     ]
    }
   ],
   "source": [
    "# Importing the built-in module called \"sqlite3\" to deal with database.\n",
    "import sqlite3\n",
    "\n",
    "#Creating a connection to the database.\n",
    "connection = sqlite3.connect('temperature_data.db')\n",
    "cursor = connection.cursor()\n",
    "\n",
    "# Using drop for the table that already exist.\n",
    "cursor.execute('DROP TABLE IF EXISTS Temperature')\n",
    "\n",
    "# Creating the Temperature table.\n",
    "cursor.execute('''\n",
    "    CREATE TABLE Temperature (\n",
    "        id INTEGER PRIMARY KEY,\n",
    "        recordDate DATE,\n",
    "        temperature INTEGER\n",
    "    )\n",
    "''')\n",
    "\n",
    "# Sample data to insert into the table\n",
    "data = [\n",
    "    (1, '2023-10-01', 25),\n",
    "    (2, '2023-10-02', 28),\n",
    "    (3, '2023-10-03', 30),\n",
    "    (4, '2023-10-04', 26),\n",
    "    (5, '2023-10-05', 29)\n",
    "]\n",
    "\n",
    "# aking a random sample data into the table.\n",
    "cursor.executemany('INSERT INTO Temperature VALUES (?, ?, ?)', data)\n",
    "\n",
    "# Using commit to make changes.\n",
    "connection.commit()\n",
    "\n",
    "# Retrieving all records from the table.\n",
    "cursor.execute('SELECT * FROM Temperature')\n",
    "rows = cursor.fetchall()\n",
    "\n",
    "# Prsenting all the data in a box structure.\n",
    "print(\"+------------+--------------+------------+\")\n",
    "print(\"| {:<10} | {:<12} | {:<11} |\".format(\"ID\", \"Record Date\", \"Temperature\"))\n",
    "print(\"+------------+--------------+------------+\")\n",
    "for row in rows:\n",
    "    print(\"| {:<10} | {:<12} | {:<11} |\".format(row[0], row[1], row[2]))\n",
    "print(\"+------------+--------------+------------+\")\n",
    "\n",
    "# Closing the connection to the database.\n",
    "connection.close()\n"
   ]
  },
  {
   "cell_type": "markdown",
   "id": "f4243095",
   "metadata": {},
   "source": [
    "# Question 23"
   ]
  },
  {
   "cell_type": "markdown",
   "id": "13a3e244",
   "metadata": {},
   "source": [
    "Write a solution to find all dates' Id with higher temperatures compared to its previous dates (yesterday).\n",
    "\n",
    "Return the result table in any order.\n",
    "\n",
    "Please use the following input Weather table for your solution. To receive full marks you will need to create the database, create the table, insert the data below and execute the SQL query.\n",
    "\n",
    " \n",
    "\n",
    "Input: \n",
    "Weather table:\n",
    "| id | recordDate | temperature |\n",
    "|----|------------|-------------|\n",
    "| 1  | 2015-01-01 | 10          |\n",
    "| 2  | 2015-01-02 | 25          |\n",
    "| 3  | 2015-01-03 | 20          |\n",
    "| 4  | 2015-01-04 | 30          |\n",
    "\n",
    "Output: \n",
    "| id |\n",
    "|----|\n",
    "| 2  |\n",
    "| 4  |\n",
    "\n",
    "Explanation: <BR>\n",
    "In 2015-01-02, the temperature was higher than the previous day (10 -> 25).<BR>\n",
    "In 2015-01-04, the temperature was higher than the previous day (20 -> 30)."
   ]
  },
  {
   "cell_type": "markdown",
   "id": "585836e2",
   "metadata": {},
   "source": [
    "### Answer:"
   ]
  },
  {
   "cell_type": "code",
   "execution_count": 71,
   "id": "9e27d2cf",
   "metadata": {},
   "outputs": [
    {
     "name": "stdout",
     "output_type": "stream",
     "text": [
      "Input Data:\n",
      "╒══════╤══════════════╤═══════════════╕\n",
      "│   id │ recordDate   │   temperature │\n",
      "╞══════╪══════════════╪═══════════════╡\n",
      "│    5 │ 2015-01-01   │            10 │\n",
      "├──────┼──────────────┼───────────────┤\n",
      "│    6 │ 2015-01-02   │            25 │\n",
      "├──────┼──────────────┼───────────────┤\n",
      "│    7 │ 2015-01-03   │            20 │\n",
      "├──────┼──────────────┼───────────────┤\n",
      "│    8 │ 2015-01-04   │            30 │\n",
      "╘══════╧══════════════╧═══════════════╛\n",
      "\n",
      "\n",
      "Output Data:\n",
      "╒══════╕\n",
      "│   id │\n",
      "╞══════╡\n",
      "│    2 │\n",
      "├──────┤\n",
      "│    4 │\n",
      "╘══════╛\n",
      "\n",
      " Explanation:\n",
      "1. In 2015-01-02, the temperature was higher than the previous day (10 -> 25).\n",
      "2. In 2015-01-04, the temperature was higher than the previous day (20 -> 30).\n"
     ]
    }
   ],
   "source": [
    "# Importing the built-in module called \"sqlite3\" to deal with database.\n",
    "import sqlite3\n",
    "\n",
    "# Using \"tabulate\" to create table.\n",
    "from tabulate import tabulate\n",
    "\n",
    "# Creating a connection to the database.\n",
    "connection = sqlite3.connect('weather_data.db')\n",
    "cursor = connection.cursor()\n",
    "\n",
    "# Creating the Weather table if it does not exist.\n",
    "cursor.execute('''\n",
    "    CREATE TABLE IF NOT EXISTS Weather (\n",
    "        id INTEGER PRIMARY KEY,\n",
    "        recordDate DATE,\n",
    "        temperature INTEGER\n",
    "    )\n",
    "''')\n",
    "\n",
    "# Inserting the data in the Weather table.\n",
    "data = [\n",
    "    (5, '2015-01-01', 10),\n",
    "    (6, '2015-01-02', 25),\n",
    "    (7, '2015-01-03', 20),\n",
    "    (8, '2015-01-04', 30)\n",
    "]\n",
    "cursor.executemany('INSERT OR IGNORE INTO Weather VALUES (?, ?, ?)', data)\n",
    "\n",
    "try:\n",
    "    \n",
    "# Executing the SQL query.\n",
    "    cursor.execute('''\n",
    "        SELECT current_id AS id\n",
    "        FROM (\n",
    "            SELECT \n",
    "                id AS current_id,\n",
    "                recordDate AS current_date,\n",
    "                temperature AS current_temp,\n",
    "                LAG(temperature) OVER (ORDER BY recordDate) AS prev_temp\n",
    "            FROM Weather\n",
    "        ) PreviousDay\n",
    "        WHERE current_temp > prev_temp\n",
    "    ''')\n",
    "\n",
    "# Retriving the results.\n",
    "    rows = cursor.fetchall()\n",
    "\n",
    "# Presenting  the input data in a box structure.\n",
    "    headers_input = [\"id\", \"recordDate\", \"temperature\"]\n",
    "    print(\"Input Data:\")\n",
    "    print(tabulate(data, headers=headers_input, tablefmt=\"fancy_grid\"))\n",
    "    print(\"\\n\")\n",
    "\n",
    "# Prsenting the results in a box structure.\n",
    "    if len(rows) > 0:\n",
    "        headers_output = [\"id\"]\n",
    "        table_data = [[row[0]] for row in rows]\n",
    "        print(\"Output Data:\")\n",
    "        print(tabulate(table_data, headers_output, tablefmt=\"fancy_grid\"))\n",
    "        print(\"\\n Explanation:\")\n",
    "        print(f\"1. In {data[1][1]}, the temperature was higher than the previous day ({data[0][2]} -> {data[1][2]}).\")\n",
    "        print(f\"2. In {data[3][1]}, the temperature was higher than the previous day ({data[2][2]} -> {data[3][2]}).\")\n",
    "    else:\n",
    "        print(\"No dates found with higher temperatures compared to the previous day.\")\n",
    "\n",
    "except sqlite3.Error as error:\n",
    "    print(f\"An error occurred: {error}\")\n",
    "\n",
    "finally:\n",
    "    \n",
    "# Closing the connection to the database.\n",
    "    connection.close()\n"
   ]
  },
  {
   "cell_type": "code",
   "execution_count": null,
   "id": "0e5ac9d1",
   "metadata": {},
   "outputs": [],
   "source": []
  }
 ],
 "metadata": {
  "kernelspec": {
   "display_name": "Python 3 (ipykernel)",
   "language": "python",
   "name": "python3"
  },
  "language_info": {
   "codemirror_mode": {
    "name": "ipython",
    "version": 3
   },
   "file_extension": ".py",
   "mimetype": "text/x-python",
   "name": "python",
   "nbconvert_exporter": "python",
   "pygments_lexer": "ipython3",
   "version": "3.11.4"
  }
 },
 "nbformat": 4,
 "nbformat_minor": 5
}
